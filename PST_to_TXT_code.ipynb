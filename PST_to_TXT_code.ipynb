{
  "nbformat": 4,
  "nbformat_minor": 0,
  "metadata": {
    "colab": {
      "provenance": [],
      "include_colab_link": true
    },
    "kernelspec": {
      "name": "python3",
      "display_name": "Python 3"
    },
    "language_info": {
      "name": "python"
    }
  },
  "cells": [
    {
      "cell_type": "markdown",
      "metadata": {
        "id": "view-in-github",
        "colab_type": "text"
      },
      "source": [
        "<a href=\"https://colab.research.google.com/github/Karanveer08/Pst_to_txt_converter/blob/main/PST_to_TXT_code.ipynb\" target=\"_parent\"><img src=\"https://colab.research.google.com/assets/colab-badge.svg\" alt=\"Open In Colab\"/></a>"
      ]
    },
    {
      "cell_type": "code",
      "source": [
        "from google.colab import drive\n",
        "drive.mount('/content/drive')"
      ],
      "metadata": {
        "colab": {
          "base_uri": "https://localhost:8080/"
        },
        "id": "Es0xMuw3LcOn",
        "outputId": "ca454f3e-bdfb-49ab-dba5-40158e863d63"
      },
      "execution_count": null,
      "outputs": [
        {
          "output_type": "stream",
          "name": "stdout",
          "text": [
            "Mounted at /content/drive\n"
          ]
        }
      ]
    },
    {
      "cell_type": "code",
      "source": [
        "pip install loguru"
      ],
      "metadata": {
        "colab": {
          "base_uri": "https://localhost:8080/"
        },
        "id": "DNqrvQkfBAo5",
        "outputId": "04c6b9bf-c0d4-49de-d1d0-f900248c1daf"
      },
      "execution_count": null,
      "outputs": [
        {
          "output_type": "stream",
          "name": "stdout",
          "text": [
            "Collecting loguru\n",
            "  Downloading loguru-0.7.2-py3-none-any.whl (62 kB)\n",
            "\u001b[2K     \u001b[90m━━━━━━━━━━━━━━━━━━━━━━━━━━━━━━━━━━━━━━━━\u001b[0m \u001b[32m62.5/62.5 kB\u001b[0m \u001b[31m1.0 MB/s\u001b[0m eta \u001b[36m0:00:00\u001b[0m\n",
            "\u001b[?25hInstalling collected packages: loguru\n",
            "Successfully installed loguru-0.7.2\n"
          ]
        }
      ]
    },
    {
      "cell_type": "code",
      "source": [
        "pip install libpff-python"
      ],
      "metadata": {
        "colab": {
          "base_uri": "https://localhost:8080/"
        },
        "id": "l86jSUSSB2ZE",
        "outputId": "f736c2fb-6742-4164-ceb4-1de6a0ea6f05"
      },
      "execution_count": null,
      "outputs": [
        {
          "output_type": "stream",
          "name": "stdout",
          "text": [
            "Collecting libpff-python\n",
            "  Downloading libpff-python-20211114.tar.gz (2.1 MB)\n",
            "\u001b[2K     \u001b[90m━━━━━━━━━━━━━━━━━━━━━━━━━━━━━━━━━━━━━━━━\u001b[0m \u001b[32m2.1/2.1 MB\u001b[0m \u001b[31m22.8 MB/s\u001b[0m eta \u001b[36m0:00:00\u001b[0m\n",
            "\u001b[?25h  Preparing metadata (setup.py) ... \u001b[?25l\u001b[?25hdone\n",
            "Building wheels for collected packages: libpff-python\n",
            "  Building wheel for libpff-python (setup.py) ... \u001b[?25l\u001b[?25hdone\n",
            "  Created wheel for libpff-python: filename=libpff_python-20211114-cp310-cp310-linux_x86_64.whl size=1837850 sha256=0fa902af764b5214ecd6a2d56e8971c1bf73b034076c5028f8ae8d6257ec97ab\n",
            "  Stored in directory: /root/.cache/pip/wheels/72/7f/71/266369be569e85f399a25ad5ece87077b25f5e0d96d2582683\n",
            "Successfully built libpff-python\n",
            "Installing collected packages: libpff-python\n",
            "Successfully installed libpff-python-20211114\n"
          ]
        }
      ]
    },
    {
      "cell_type": "code",
      "source": [
        "from loguru import logger"
      ],
      "metadata": {
        "id": "PvDdMIjoBPuu"
      },
      "execution_count": null,
      "outputs": []
    },
    {
      "cell_type": "code",
      "source": [
        "import json\n",
        "import os\n",
        "import sys\n",
        "import re\n",
        "\n",
        "import pypff"
      ],
      "metadata": {
        "id": "1lwfdbtTAe1M"
      },
      "execution_count": null,
      "outputs": []
    },
    {
      "cell_type": "code",
      "source": [
        "output_directory = \"\"\n",
        "next_line = \"\\n\"\n",
        "hex_pattern = r\"\\\\x[0-9a-fA-F*]{2}(?![@*])\"\n",
        "newline_pattern = r\"\\r\\n\"\n",
        "exclusion_pattern = f\"{hex_pattern}|{newline_pattern}\"\n",
        "\n",
        "\n",
        "root_directory = f\"/content/drive/MyDrive/dataset\"\n",
        "response_output = \"\""
      ],
      "metadata": {
        "id": "d0wwNYlwC4pg"
      },
      "execution_count": null,
      "outputs": []
    },
    {
      "cell_type": "code",
      "source": [
        "# response_output = \"\"\n",
        "\n",
        "date_dict = {x: 0 for x in range(1, 25)}\n",
        "date_list = [date_dict.copy() for x in range(7)]\n",
        "\n",
        "valid_extensions = [\".pst\"]\n",
        "\n",
        "logger.add(\"./logs/file_{time}.log\", level=\"TRACE\", rotation=\"100 MB\")"
      ],
      "metadata": {
        "colab": {
          "base_uri": "https://localhost:8080/"
        },
        "id": "HB38R8afFisg",
        "outputId": "27e94eda-455d-4b39-8fa2-a75aefdafdfc"
      },
      "execution_count": null,
      "outputs": [
        {
          "output_type": "execute_result",
          "data": {
            "text/plain": [
              "2"
            ]
          },
          "metadata": {},
          "execution_count": 12
        }
      ]
    },
    {
      "cell_type": "code",
      "source": [
        "def extract(output, pst_file):\n",
        "    try:\n",
        "        logger.debug(\"Opening PST for processing...\")\n",
        "        opst = pypff.open(pst_file)\n",
        "        root = opst.get_root_folder()\n",
        "\n",
        "        logger.debug(\"Starting traverse of PST structure...\")\n",
        "        folderTraverse(root, output)\n",
        "    except Exception as ex:\n",
        "        print(ex)"
      ],
      "metadata": {
        "id": "E4Cyje-tFtlD"
      },
      "execution_count": null,
      "outputs": []
    },
    {
      "cell_type": "code",
      "source": [
        "def folderTraverse(base, output):\n",
        "    try:\n",
        "        if hasattr(base, \"sub_folders\"):\n",
        "            for folder in base.sub_folders:\n",
        "                if folder.number_of_sub_folders:\n",
        "                    folderTraverse(folder, output)\n",
        "                checkForMessages(folder, output)\n",
        "\n",
        "    except Exception as ex:\n",
        "        print(ex)"
      ],
      "metadata": {
        "id": "kMJb8sFzFxHD"
      },
      "execution_count": null,
      "outputs": []
    },
    {
      "cell_type": "code",
      "source": [
        "def checkForMessages(folder, output):\n",
        "    logger.debug(\"Processing Folder: \" + folder.name)\n",
        "    message_list = []\n",
        "    for message in folder.sub_messages:\n",
        "        processedMessage = processMessage(message)\n",
        "\n",
        "        if processedMessage:\n",
        "            message_dict = processedMessage\n",
        "            message_list.append(message_dict)\n",
        "    folderReport(message_list, output)\n"
      ],
      "metadata": {
        "id": "fIVe6vxkdRhB"
      },
      "execution_count": null,
      "outputs": []
    },
    {
      "cell_type": "code",
      "source": [
        "def processMessage(message):\n",
        "    cleaned_string = \"\"\n",
        "\n",
        "    if message.plain_text_body:\n",
        "        plain_text_body = message.plain_text_body.strip()\n",
        "\n",
        "        if plain_text_body:\n",
        "            cleaned_string = f\"\"\"{ plain_text_body } \"\"\"\n",
        "\n",
        "            # Decode the bytes to get a string\n",
        "            # cleaned_string = str(cleaned_string.decode(\"utf-8\")).strip()\n",
        "\n",
        "    if len(cleaned_string) > 10:\n",
        "        message = {\n",
        "            \"subject\": str(message.subject),\n",
        "            \"sender\": str(message.sender_name),\n",
        "            \"header\": str(message.transport_headers),\n",
        "            \"body\": cleaned_string,\n",
        "            \"creation_time\": message.creation_time.strftime(\n",
        "                \"%Y-%m-%d %H:%M:%S\"\n",
        "            ),  # Format as a string\n",
        "            \"submit_time\": message.client_submit_time.strftime(\n",
        "                \"%Y-%m-%d %H:%M:%S\"\n",
        "            ),  # Format as a string\n",
        "            \"delivery_time\": message.delivery_time.strftime(\n",
        "                \"%Y-%m-%d %H:%M:%S\"\n",
        "            ),  # Format as a string\n",
        "            \"attachment_count\": message.number_of_attachments,\n",
        "        }\n",
        "\n",
        "        json_message = json.dumps(message)\n",
        "        return json_message\n",
        "    else:\n",
        "        return None"
      ],
      "metadata": {
        "id": "WPkMbq5tF1gR"
      },
      "execution_count": null,
      "outputs": []
    },
    {
      "cell_type": "code",
      "source": [
        "def folderReport(message_list, file_path):\n",
        "    if not len(message_list):\n",
        "        logger.warning(f\"Filename: {file_path} -->> Empty message not processed\")\n",
        "        return\n",
        "\n",
        "    # extracted_files = f\"{output_dir}{project_id}/\"\n",
        "    for index, message in enumerate(message_list):\n",
        "        convert_json = json.loads(message)\n",
        "        date_string = convert_json[\"creation_time\"].replace(\" \", \"_\").replace(\":\", \"_\")\n",
        "        filename = f\"{date_string}_{convert_json['sender']}\"\n",
        "        filename = re.sub(r\"\\W+\", \"_\", filename)\n",
        "        filename = f\"{filename}_{index}.txt\"\n",
        "        file_output = os.path.join(file_path, filename)\n",
        "\n",
        "        message = construct_message(file_output, message)\n",
        "        \"\"\" # Creation Time\n",
        "        day_of_week = message[\"creation_time\"].weekday()\n",
        "        hour_of_day = message[\"creation_time\"].hour + 1\n",
        "        date_list[day_of_week][hour_of_day] += 1\n",
        "        # Submit Time\n",
        "        day_of_week = message[\"submit_time\"].weekday()\n",
        "        hour_of_day = message[\"submit_time\"].hour + 1\n",
        "        date_list[day_of_week][hour_of_day] += 1\n",
        "        # Delivery Time\n",
        "        day_of_week = message[\"delivery_time\"].weekday()\n",
        "        hour_of_day = message[\"delivery_time\"].hour + 1\n",
        "        date_list[day_of_week][hour_of_day] += 1 \"\"\"\n",
        "\n"
      ],
      "metadata": {
        "id": "EHTHGKLrF5wL"
      },
      "execution_count": null,
      "outputs": []
    },
    {
      "cell_type": "code",
      "source": [
        "def write_to_local_data(file_name: str, file_content: str):\n",
        "    try:\n",
        "        if file_name and file_content:\n",
        "            with open(file_name, \"w\") as fh:\n",
        "                fh.write(file_content)\n",
        "    except Exception as e:\n",
        "        print(e)"
      ],
      "metadata": {
        "id": "eskVfhUqF79A"
      },
      "execution_count": null,
      "outputs": []
    },
    {
      "cell_type": "code",
      "source": [
        " def sanitize(message):\n",
        "    split_value = str(message).split(\"\\r\\n\")\n",
        "    convert_to_string = \"\".join(split_value)\n",
        "\n",
        "    return re.sub(exclusion_pattern, \"\", convert_to_string)\n"
      ],
      "metadata": {
        "id": "e3NmwnETF_go"
      },
      "execution_count": null,
      "outputs": []
    },
    {
      "cell_type": "code",
      "source": [
        "def extract_emails(email_header):\n",
        "    try:\n",
        "        from_line = \"\"\n",
        "        to_line = \"\"\n",
        "        from_pattern = re.compile(r\"From:\\s*(.+)\")\n",
        "        to_pattern = re.compile(r\"To:\\s*(.+)\")\n",
        "\n",
        "        # Extract \"From\" and \"To\" lines\n",
        "        from_match = from_pattern.search(email_header)\n",
        "        to_match = to_pattern.search(email_header)\n",
        "\n",
        "        if from_match:\n",
        "            from_line = from_match.group(1)\n",
        "            # print(f\"From: {from_line}\")\n",
        "\n",
        "        if to_match:\n",
        "            to_line = to_match.group(1)\n",
        "            # print(f\"To: {to_line}\")\n",
        "\n",
        "        return {\"From\": from_line, \"To\": to_line}\n",
        "    except Exception as ex:\n",
        "        return \"\"\n"
      ],
      "metadata": {
        "id": "K2gNFBTBGHhI"
      },
      "execution_count": null,
      "outputs": []
    },
    {
      "cell_type": "code",
      "source": [
        "def construct_message(file_path, message):\n",
        "    \"\"\"_ = [\n",
        "        f\"sender: {sanitize(message['sender'])}{next_line}\",\n",
        "        f\"subject: {sanitize(message['subject'])}{next_line}\",\n",
        "        f\"header: {extract_emails(message['header'])}{next_line}\",\n",
        "        f\"creation_time: {sanitize(message['creation_time'])}{next_line}\",\n",
        "        f\"submit_time: {sanitize(message['submit_time'])}{next_line}\",\n",
        "        f\"delivery_time: {sanitize(message['delivery_time'])}{next_line}\",\n",
        "        f\"body: {sanitize(message['body'])}{next_line}\",\n",
        "        f\"attachment_count: {sanitize(message['attachment_count'])}\",\n",
        "    ]\n",
        "\n",
        "    output_message = next_line.join(_)\"\"\"\n",
        "\n",
        "    try:\n",
        "        write_to_local_data(file_path, message)\n",
        "    except Exception as e:\n",
        "        print(e)\n",
        "\n",
        "    return message"
      ],
      "metadata": {
        "id": "2wWV3uLUGMB8"
      },
      "execution_count": null,
      "outputs": []
    },
    {
      "cell_type": "code",
      "source": [
        "if __name__ == \"__main__\":\n",
        "    project_id = 108\n",
        "\n",
        "    print(len(sys.argv))\n",
        "    if len(sys.argv) == 5:\n",
        "        project_id = int(sys.argv[1])\n",
        "    else:\n",
        "        print(\"Insufficient Parameters!\")\n",
        "\n",
        "    print(\"Matter Id:\", project_id)\n",
        "\n",
        "    source_dir = f\"{root_directory}\"\n",
        "    log_dir = f\"{source_dir}/{project_id}\"\n",
        "    output_dir = f\"{root_directory}\"\n",
        "\n",
        "    output_directory = os.path.realpath(output_dir)\n",
        "    source_files = os.path.realpath(source_dir)\n",
        "    log_director = os.path.abspath(log_dir)\n",
        "\n",
        "    print(\"Source Dir: \", source_files)\n",
        "    print(\"Output Dir: \", output_directory)\n",
        "\n",
        "    if not os.path.exists(output_directory):\n",
        "        os.makedirs(output_directory)\n",
        "\n",
        "    log_path = os.path.join(log_director, \"pst_indexer.log\")\n",
        "    \"\"\" logger.basicConfig(\n",
        "        filename=log_path,\n",
        "        level=logger.DEBUG,\n",
        "        format=\"%(asctime)s | %(levelname)s | %(message)s\",\n",
        "        filemode=\"a\",\n",
        "    ) \"\"\"\n",
        "\n",
        "    logger.info(\"Starting Script...\")\n",
        "\n",
        "    for file in os.listdir(source_dir):\n",
        "        print(file)\n",
        "        source_file = os.path.join(source_files, file)\n",
        "        # output_file = os.path.join(output_subdir, file)\n",
        "\n",
        "        file_extension = os.path.splitext(file)[1]\n",
        "        print(\"file_extension\", file_extension)\n",
        "\n",
        "        if file_extension.lower() == \".pst\":\n",
        "            print(f\"{source_file} Processing.\")\n",
        "            extract(output_dir, source_file)\n",
        "            print(f\"{source_file} Extracted.\")\n",
        "        else:\n",
        "            print(f\"The file {file}\")\n",
        "\n"
      ],
      "metadata": {
        "colab": {
          "base_uri": "https://localhost:8080/"
        },
        "id": "N36eTQf7AX_1",
        "outputId": "47685504-dbee-4f0b-e5f0-88853dde51f1"
      },
      "execution_count": null,
      "outputs": [
        {
          "output_type": "stream",
          "name": "stderr",
          "text": [
            "\u001b[32m2023-11-21 18:43:35.885\u001b[0m | \u001b[1mINFO    \u001b[0m | \u001b[36m__main__\u001b[0m:\u001b[36m<cell line: 1>\u001b[0m:\u001b[36m34\u001b[0m - \u001b[1mStarting Script...\u001b[0m\n",
            "\u001b[32m2023-11-21 18:43:35.888\u001b[0m | \u001b[34m\u001b[1mDEBUG   \u001b[0m | \u001b[36m__main__\u001b[0m:\u001b[36mextract\u001b[0m:\u001b[36m3\u001b[0m - \u001b[34m\u001b[1mOpening PST for processing...\u001b[0m\n"
          ]
        },
        {
          "output_type": "stream",
          "name": "stdout",
          "text": [
            "3\n",
            "Insufficient Parameters!\n",
            "Matter Id: 108\n",
            "Source Dir:  /content/drive/MyDrive/dataset\n",
            "Output Dir:  /content/drive/MyDrive/dataset\n",
            "TEST_DATA_FILE.pst\n",
            "file_extension .pst\n",
            "/content/drive/MyDrive/dataset/TEST_DATA_FILE.pst Processing.\n"
          ]
        },
        {
          "output_type": "stream",
          "name": "stderr",
          "text": [
            "\u001b[32m2023-11-21 18:43:36.740\u001b[0m | \u001b[34m\u001b[1mDEBUG   \u001b[0m | \u001b[36m__main__\u001b[0m:\u001b[36mextract\u001b[0m:\u001b[36m7\u001b[0m - \u001b[34m\u001b[1mStarting traverse of PST structure...\u001b[0m\n",
            "\u001b[32m2023-11-21 18:43:36.755\u001b[0m | \u001b[34m\u001b[1mDEBUG   \u001b[0m | \u001b[36m__main__\u001b[0m:\u001b[36mcheckForMessages\u001b[0m:\u001b[36m2\u001b[0m - \u001b[34m\u001b[1mProcessing Folder: SPAM Search Folder 2\u001b[0m\n",
            "\u001b[32m2023-11-21 18:43:36.758\u001b[0m | \u001b[33m\u001b[1mWARNING \u001b[0m | \u001b[36m__main__\u001b[0m:\u001b[36mfolderReport\u001b[0m:\u001b[36m3\u001b[0m - \u001b[33m\u001b[1mFilename: /content/drive/MyDrive/dataset -->> Empty message not processed\u001b[0m\n",
            "\u001b[32m2023-11-21 18:43:36.765\u001b[0m | \u001b[34m\u001b[1mDEBUG   \u001b[0m | \u001b[36m__main__\u001b[0m:\u001b[36mcheckForMessages\u001b[0m:\u001b[36m2\u001b[0m - \u001b[34m\u001b[1mProcessing Folder: Deleted Items\u001b[0m\n",
            "\u001b[32m2023-11-21 18:43:36.768\u001b[0m | \u001b[33m\u001b[1mWARNING \u001b[0m | \u001b[36m__main__\u001b[0m:\u001b[36mfolderReport\u001b[0m:\u001b[36m3\u001b[0m - \u001b[33m\u001b[1mFilename: /content/drive/MyDrive/dataset -->> Empty message not processed\u001b[0m\n",
            "\u001b[32m2023-11-21 18:43:36.772\u001b[0m | \u001b[34m\u001b[1mDEBUG   \u001b[0m | \u001b[36m__main__\u001b[0m:\u001b[36mcheckForMessages\u001b[0m:\u001b[36m2\u001b[0m - \u001b[34m\u001b[1mProcessing Folder: Inbox\u001b[0m\n",
            "\u001b[32m2023-11-21 18:43:36.863\u001b[0m | \u001b[34m\u001b[1mDEBUG   \u001b[0m | \u001b[36m__main__\u001b[0m:\u001b[36mcheckForMessages\u001b[0m:\u001b[36m2\u001b[0m - \u001b[34m\u001b[1mProcessing Folder: Outbox\u001b[0m\n",
            "\u001b[32m2023-11-21 18:43:36.866\u001b[0m | \u001b[33m\u001b[1mWARNING \u001b[0m | \u001b[36m__main__\u001b[0m:\u001b[36mfolderReport\u001b[0m:\u001b[36m3\u001b[0m - \u001b[33m\u001b[1mFilename: /content/drive/MyDrive/dataset -->> Empty message not processed\u001b[0m\n",
            "\u001b[32m2023-11-21 18:43:36.868\u001b[0m | \u001b[34m\u001b[1mDEBUG   \u001b[0m | \u001b[36m__main__\u001b[0m:\u001b[36mcheckForMessages\u001b[0m:\u001b[36m2\u001b[0m - \u001b[34m\u001b[1mProcessing Folder: Sent Items\u001b[0m\n",
            "\u001b[32m2023-11-21 18:43:36.941\u001b[0m | \u001b[34m\u001b[1mDEBUG   \u001b[0m | \u001b[36m__main__\u001b[0m:\u001b[36mcheckForMessages\u001b[0m:\u001b[36m2\u001b[0m - \u001b[34m\u001b[1mProcessing Folder: Junk E-mail\u001b[0m\n",
            "\u001b[32m2023-11-21 18:43:36.945\u001b[0m | \u001b[33m\u001b[1mWARNING \u001b[0m | \u001b[36m__main__\u001b[0m:\u001b[36mfolderReport\u001b[0m:\u001b[36m3\u001b[0m - \u001b[33m\u001b[1mFilename: /content/drive/MyDrive/dataset -->> Empty message not processed\u001b[0m\n",
            "\u001b[32m2023-11-21 18:43:36.947\u001b[0m | \u001b[34m\u001b[1mDEBUG   \u001b[0m | \u001b[36m__main__\u001b[0m:\u001b[36mcheckForMessages\u001b[0m:\u001b[36m2\u001b[0m - \u001b[34m\u001b[1mProcessing Folder: Calendar\u001b[0m\n",
            "\u001b[32m2023-11-21 18:43:36.950\u001b[0m | \u001b[33m\u001b[1mWARNING \u001b[0m | \u001b[36m__main__\u001b[0m:\u001b[36mfolderReport\u001b[0m:\u001b[36m3\u001b[0m - \u001b[33m\u001b[1mFilename: /content/drive/MyDrive/dataset -->> Empty message not processed\u001b[0m\n",
            "\u001b[32m2023-11-21 18:43:36.952\u001b[0m | \u001b[34m\u001b[1mDEBUG   \u001b[0m | \u001b[36m__main__\u001b[0m:\u001b[36mcheckForMessages\u001b[0m:\u001b[36m2\u001b[0m - \u001b[34m\u001b[1mProcessing Folder: Tasks\u001b[0m\n",
            "\u001b[32m2023-11-21 18:43:36.953\u001b[0m | \u001b[33m\u001b[1mWARNING \u001b[0m | \u001b[36m__main__\u001b[0m:\u001b[36mfolderReport\u001b[0m:\u001b[36m3\u001b[0m - \u001b[33m\u001b[1mFilename: /content/drive/MyDrive/dataset -->> Empty message not processed\u001b[0m\n",
            "\u001b[32m2023-11-21 18:43:36.955\u001b[0m | \u001b[34m\u001b[1mDEBUG   \u001b[0m | \u001b[36m__main__\u001b[0m:\u001b[36mcheckForMessages\u001b[0m:\u001b[36m2\u001b[0m - \u001b[34m\u001b[1mProcessing Folder: Conversation Action Settings\u001b[0m\n",
            "\u001b[32m2023-11-21 18:43:36.957\u001b[0m | \u001b[33m\u001b[1mWARNING \u001b[0m | \u001b[36m__main__\u001b[0m:\u001b[36mfolderReport\u001b[0m:\u001b[36m3\u001b[0m - \u001b[33m\u001b[1mFilename: /content/drive/MyDrive/dataset -->> Empty message not processed\u001b[0m\n",
            "\u001b[32m2023-11-21 18:43:36.959\u001b[0m | \u001b[34m\u001b[1mDEBUG   \u001b[0m | \u001b[36m__main__\u001b[0m:\u001b[36mcheckForMessages\u001b[0m:\u001b[36m2\u001b[0m - \u001b[34m\u001b[1mProcessing Folder: Quick Step Settings\u001b[0m\n",
            "\u001b[32m2023-11-21 18:43:36.961\u001b[0m | \u001b[33m\u001b[1mWARNING \u001b[0m | \u001b[36m__main__\u001b[0m:\u001b[36mfolderReport\u001b[0m:\u001b[36m3\u001b[0m - \u001b[33m\u001b[1mFilename: /content/drive/MyDrive/dataset -->> Empty message not processed\u001b[0m\n",
            "\u001b[32m2023-11-21 18:43:36.963\u001b[0m | \u001b[34m\u001b[1mDEBUG   \u001b[0m | \u001b[36m__main__\u001b[0m:\u001b[36mcheckForMessages\u001b[0m:\u001b[36m2\u001b[0m - \u001b[34m\u001b[1mProcessing Folder: Contacts\u001b[0m\n",
            "\u001b[32m2023-11-21 18:43:36.965\u001b[0m | \u001b[33m\u001b[1mWARNING \u001b[0m | \u001b[36m__main__\u001b[0m:\u001b[36mfolderReport\u001b[0m:\u001b[36m3\u001b[0m - \u001b[33m\u001b[1mFilename: /content/drive/MyDrive/dataset -->> Empty message not processed\u001b[0m\n",
            "\u001b[32m2023-11-21 18:43:36.967\u001b[0m | \u001b[34m\u001b[1mDEBUG   \u001b[0m | \u001b[36m__main__\u001b[0m:\u001b[36mcheckForMessages\u001b[0m:\u001b[36m2\u001b[0m - \u001b[34m\u001b[1mProcessing Folder: Journal\u001b[0m\n",
            "\u001b[32m2023-11-21 18:43:36.969\u001b[0m | \u001b[33m\u001b[1mWARNING \u001b[0m | \u001b[36m__main__\u001b[0m:\u001b[36mfolderReport\u001b[0m:\u001b[36m3\u001b[0m - \u001b[33m\u001b[1mFilename: /content/drive/MyDrive/dataset -->> Empty message not processed\u001b[0m\n",
            "\u001b[32m2023-11-21 18:43:36.971\u001b[0m | \u001b[34m\u001b[1mDEBUG   \u001b[0m | \u001b[36m__main__\u001b[0m:\u001b[36mcheckForMessages\u001b[0m:\u001b[36m2\u001b[0m - \u001b[34m\u001b[1mProcessing Folder: Notes\u001b[0m\n",
            "\u001b[32m2023-11-21 18:43:36.972\u001b[0m | \u001b[33m\u001b[1mWARNING \u001b[0m | \u001b[36m__main__\u001b[0m:\u001b[36mfolderReport\u001b[0m:\u001b[36m3\u001b[0m - \u001b[33m\u001b[1mFilename: /content/drive/MyDrive/dataset -->> Empty message not processed\u001b[0m\n",
            "\u001b[32m2023-11-21 18:43:36.974\u001b[0m | \u001b[34m\u001b[1mDEBUG   \u001b[0m | \u001b[36m__main__\u001b[0m:\u001b[36mcheckForMessages\u001b[0m:\u001b[36m2\u001b[0m - \u001b[34m\u001b[1mProcessing Folder: Drafts\u001b[0m\n",
            "\u001b[32m2023-11-21 18:43:36.976\u001b[0m | \u001b[33m\u001b[1mWARNING \u001b[0m | \u001b[36m__main__\u001b[0m:\u001b[36mfolderReport\u001b[0m:\u001b[36m3\u001b[0m - \u001b[33m\u001b[1mFilename: /content/drive/MyDrive/dataset -->> Empty message not processed\u001b[0m\n",
            "\u001b[32m2023-11-21 18:43:36.977\u001b[0m | \u001b[34m\u001b[1mDEBUG   \u001b[0m | \u001b[36m__main__\u001b[0m:\u001b[36mcheckForMessages\u001b[0m:\u001b[36m2\u001b[0m - \u001b[34m\u001b[1mProcessing Folder: RSS Feeds\u001b[0m\n",
            "\u001b[32m2023-11-21 18:43:36.979\u001b[0m | \u001b[33m\u001b[1mWARNING \u001b[0m | \u001b[36m__main__\u001b[0m:\u001b[36mfolderReport\u001b[0m:\u001b[36m3\u001b[0m - \u001b[33m\u001b[1mFilename: /content/drive/MyDrive/dataset -->> Empty message not processed\u001b[0m\n",
            "\u001b[32m2023-11-21 18:43:36.980\u001b[0m | \u001b[34m\u001b[1mDEBUG   \u001b[0m | \u001b[36m__main__\u001b[0m:\u001b[36mcheckForMessages\u001b[0m:\u001b[36m2\u001b[0m - \u001b[34m\u001b[1mProcessing Folder: Top of Outlook data file\u001b[0m\n",
            "\u001b[32m2023-11-21 18:43:36.982\u001b[0m | \u001b[33m\u001b[1mWARNING \u001b[0m | \u001b[36m__main__\u001b[0m:\u001b[36mfolderReport\u001b[0m:\u001b[36m3\u001b[0m - \u001b[33m\u001b[1mFilename: /content/drive/MyDrive/dataset -->> Empty message not processed\u001b[0m\n",
            "\u001b[32m2023-11-21 18:43:36.983\u001b[0m | \u001b[34m\u001b[1mDEBUG   \u001b[0m | \u001b[36m__main__\u001b[0m:\u001b[36mcheckForMessages\u001b[0m:\u001b[36m2\u001b[0m - \u001b[34m\u001b[1mProcessing Folder: Search Root\u001b[0m\n",
            "\u001b[32m2023-11-21 18:43:36.985\u001b[0m | \u001b[33m\u001b[1mWARNING \u001b[0m | \u001b[36m__main__\u001b[0m:\u001b[36mfolderReport\u001b[0m:\u001b[36m3\u001b[0m - \u001b[33m\u001b[1mFilename: /content/drive/MyDrive/dataset -->> Empty message not processed\u001b[0m\n",
            "\u001b[32m2023-11-21 18:43:36.987\u001b[0m | \u001b[34m\u001b[1mDEBUG   \u001b[0m | \u001b[36m__main__\u001b[0m:\u001b[36mcheckForMessages\u001b[0m:\u001b[36m2\u001b[0m - \u001b[34m\u001b[1mProcessing Folder: IPM_VIEWS\u001b[0m\n",
            "\u001b[32m2023-11-21 18:43:36.988\u001b[0m | \u001b[33m\u001b[1mWARNING \u001b[0m | \u001b[36m__main__\u001b[0m:\u001b[36mfolderReport\u001b[0m:\u001b[36m3\u001b[0m - \u001b[33m\u001b[1mFilename: /content/drive/MyDrive/dataset -->> Empty message not processed\u001b[0m\n",
            "\u001b[32m2023-11-21 18:43:36.990\u001b[0m | \u001b[34m\u001b[1mDEBUG   \u001b[0m | \u001b[36m__main__\u001b[0m:\u001b[36mcheckForMessages\u001b[0m:\u001b[36m2\u001b[0m - \u001b[34m\u001b[1mProcessing Folder: IPM_COMMON_VIEWS\u001b[0m\n",
            "\u001b[32m2023-11-21 18:43:36.991\u001b[0m | \u001b[33m\u001b[1mWARNING \u001b[0m | \u001b[36m__main__\u001b[0m:\u001b[36mfolderReport\u001b[0m:\u001b[36m3\u001b[0m - \u001b[33m\u001b[1mFilename: /content/drive/MyDrive/dataset -->> Empty message not processed\u001b[0m\n",
            "\u001b[32m2023-11-21 18:43:36.993\u001b[0m | \u001b[34m\u001b[1mDEBUG   \u001b[0m | \u001b[36m__main__\u001b[0m:\u001b[36mcheckForMessages\u001b[0m:\u001b[36m2\u001b[0m - \u001b[34m\u001b[1mProcessing Folder: To-Do Search\u001b[0m\n",
            "\u001b[32m2023-11-21 18:43:36.994\u001b[0m | \u001b[33m\u001b[1mWARNING \u001b[0m | \u001b[36m__main__\u001b[0m:\u001b[36mfolderReport\u001b[0m:\u001b[36m3\u001b[0m - \u001b[33m\u001b[1mFilename: /content/drive/MyDrive/dataset -->> Empty message not processed\u001b[0m\n",
            "\u001b[32m2023-11-21 18:43:36.996\u001b[0m | \u001b[34m\u001b[1mDEBUG   \u001b[0m | \u001b[36m__main__\u001b[0m:\u001b[36mcheckForMessages\u001b[0m:\u001b[36m2\u001b[0m - \u001b[34m\u001b[1mProcessing Folder: Reminders\u001b[0m\n",
            "\u001b[32m2023-11-21 18:43:36.997\u001b[0m | \u001b[33m\u001b[1mWARNING \u001b[0m | \u001b[36m__main__\u001b[0m:\u001b[36mfolderReport\u001b[0m:\u001b[36m3\u001b[0m - \u001b[33m\u001b[1mFilename: /content/drive/MyDrive/dataset -->> Empty message not processed\u001b[0m\n",
            "\u001b[32m2023-11-21 18:43:36.999\u001b[0m | \u001b[34m\u001b[1mDEBUG   \u001b[0m | \u001b[36m__main__\u001b[0m:\u001b[36mcheckForMessages\u001b[0m:\u001b[36m2\u001b[0m - \u001b[34m\u001b[1mProcessing Folder: Tracked Mail Processing\u001b[0m\n",
            "\u001b[32m2023-11-21 18:43:37.000\u001b[0m | \u001b[33m\u001b[1mWARNING \u001b[0m | \u001b[36m__main__\u001b[0m:\u001b[36mfolderReport\u001b[0m:\u001b[36m3\u001b[0m - \u001b[33m\u001b[1mFilename: /content/drive/MyDrive/dataset -->> Empty message not processed\u001b[0m\n",
            "\u001b[32m2023-11-21 18:43:37.002\u001b[0m | \u001b[34m\u001b[1mDEBUG   \u001b[0m | \u001b[36m__main__\u001b[0m:\u001b[36mcheckForMessages\u001b[0m:\u001b[36m2\u001b[0m - \u001b[34m\u001b[1mProcessing Folder: ItemProcSearch\u001b[0m\n",
            "\u001b[32m2023-11-21 18:43:37.003\u001b[0m | \u001b[33m\u001b[1mWARNING \u001b[0m | \u001b[36m__main__\u001b[0m:\u001b[36mfolderReport\u001b[0m:\u001b[36m3\u001b[0m - \u001b[33m\u001b[1mFilename: /content/drive/MyDrive/dataset -->> Empty message not processed\u001b[0m\n",
            "\u001b[32m2023-11-21 18:43:37.005\u001b[0m | \u001b[34m\u001b[1mDEBUG   \u001b[0m | \u001b[36m__main__\u001b[0m:\u001b[36mcheckForMessages\u001b[0m:\u001b[36m2\u001b[0m - \u001b[34m\u001b[1mProcessing Folder: Contact Search\u001b[0m\n",
            "\u001b[32m2023-11-21 18:43:37.006\u001b[0m | \u001b[33m\u001b[1mWARNING \u001b[0m | \u001b[36m__main__\u001b[0m:\u001b[36mfolderReport\u001b[0m:\u001b[36m3\u001b[0m - \u001b[33m\u001b[1mFilename: /content/drive/MyDrive/dataset -->> Empty message not processed\u001b[0m\n"
          ]
        },
        {
          "output_type": "stream",
          "name": "stdout",
          "text": [
            "/content/drive/MyDrive/dataset/TEST_DATA_FILE.pst Extracted.\n"
          ]
        }
      ]
    },
    {
      "cell_type": "code",
      "source": [
        "# with open('/content/sample_data/2023_11_10_05_16_49_Kawaljeet_Bhogal_0.txt') as f:\n",
        "#     lines = f.read()"
      ],
      "metadata": {
        "id": "SLxzJAWMB9RL"
      },
      "execution_count": null,
      "outputs": []
    },
    {
      "cell_type": "code",
      "source": [],
      "metadata": {
        "id": "q5DP4YiiTONl"
      },
      "execution_count": null,
      "outputs": []
    },
    {
      "cell_type": "code",
      "source": [],
      "metadata": {
        "id": "kgg3VAHtTQUN"
      },
      "execution_count": null,
      "outputs": []
    }
  ]
}